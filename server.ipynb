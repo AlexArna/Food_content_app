{
 "cells": [
  {
   "cell_type": "code",
   "execution_count": 1,
   "id": "e652e89a",
   "metadata": {},
   "outputs": [],
   "source": [
    "import pandas as pd\n",
    "#!pip install Flask\n",
    "from flask import Flask, render_template, request\n",
    "#from get_food_info import load_clean, check_food, try_again, get_input\n",
    "#from waitress import serve"
   ]
  },
  {
   "cell_type": "code",
   "execution_count": null,
   "id": "4ff026e0",
   "metadata": {},
   "outputs": [],
   "source": [
    "#!pip install ipynb"
   ]
  },
  {
   "cell_type": "code",
   "execution_count": 2,
   "id": "a2941a09",
   "metadata": {},
   "outputs": [],
   "source": [
    "from ipynb.fs.full.get_food_info import load_clean"
   ]
  },
  {
   "cell_type": "code",
   "execution_count": 3,
   "id": "ca87cfb7",
   "metadata": {},
   "outputs": [],
   "source": [
    "app2 = Flask(__name__)"
   ]
  },
  {
   "cell_type": "code",
   "execution_count": 4,
   "id": "b6d2987d",
   "metadata": {},
   "outputs": [
    {
     "name": "stdout",
     "output_type": "stream",
     "text": [
      " * Serving Flask app '__main__'\n",
      " * Debug mode: off\n"
     ]
    },
    {
     "name": "stderr",
     "output_type": "stream",
     "text": [
      "\u001b[31m\u001b[1mWARNING: This is a development server. Do not use it in a production deployment. Use a production WSGI server instead.\u001b[0m\n",
      " * Running on http://127.0.0.1:5000\n",
      "\u001b[33mPress CTRL+C to quit\u001b[0m\n",
      "127.0.0.1 - - [31/Oct/2023 20:54:17] \"GET / HTTP/1.1\" 200 -\n",
      "127.0.0.1 - - [31/Oct/2023 20:54:17] \"GET /static/styles/style.css HTTP/1.1\" 200 -\n",
      "127.0.0.1 - - [31/Oct/2023 20:54:17] \"\u001b[36mGET /static/fruitsvegg.jpg HTTP/1.1\u001b[0m\" 304 -\n",
      "127.0.0.1 - - [31/Oct/2023 20:54:18] \"\u001b[33mGET /favicon.ico HTTP/1.1\u001b[0m\" 404 -\n",
      "127.0.0.1 - - [31/Oct/2023 20:54:43] \"GET /food_content?food=Milk,+whole HTTP/1.1\" 200 -\n",
      "127.0.0.1 - - [31/Oct/2023 20:54:44] \"GET /static/styles/style.css HTTP/1.1\" 200 -\n",
      "127.0.0.1 - - [31/Oct/2023 20:54:44] \"\u001b[36mGET /static/fruitsvegg.jpg HTTP/1.1\u001b[0m\" 304 -\n",
      "127.0.0.1 - - [31/Oct/2023 20:55:18] \"GET /food_content?food=Milk,+human HTTP/1.1\" 200 -\n",
      "127.0.0.1 - - [31/Oct/2023 20:55:18] \"GET /static/styles/style.css HTTP/1.1\" 200 -\n",
      "127.0.0.1 - - [31/Oct/2023 20:55:18] \"\u001b[36mGET /static/fruitsvegg.jpg HTTP/1.1\u001b[0m\" 304 -\n",
      "127.0.0.1 - - [31/Oct/2023 20:55:56] \"GET /food_content?food=mnmn HTTP/1.1\" 200 -\n",
      "127.0.0.1 - - [31/Oct/2023 20:55:56] \"GET /static/styles/style.css HTTP/1.1\" 200 -\n",
      "127.0.0.1 - - [31/Oct/2023 20:55:56] \"GET /static/celery.jpg HTTP/1.1\" 200 -\n",
      "127.0.0.1 - - [31/Oct/2023 20:55:56] \"\u001b[33mGET /favicon.ico HTTP/1.1\u001b[0m\" 404 -\n",
      "127.0.0.1 - - [31/Oct/2023 20:56:03] \"GET /food_not_found?yes_no=no HTTP/1.1\" 200 -\n",
      "127.0.0.1 - - [31/Oct/2023 20:56:03] \"GET /static/styles/style.css HTTP/1.1\" 200 -\n",
      "127.0.0.1 - - [31/Oct/2023 20:56:03] \"GET /static/bye.jpg HTTP/1.1\" 200 -\n"
     ]
    }
   ],
   "source": [
    "@app2.route('/')\n",
    "@app2.route('/index')\n",
    "def index():\n",
    "    image= 'fruitsvegg.jpg'\n",
    "    return render_template('index.html', image=image)\n",
    "    \n",
    "\n",
    "@app2.route('/food_content', methods=['GET', 'POST'])\n",
    "def get_content():\n",
    "    df=load_clean()\n",
    "    food=request.args.get('food')\n",
    "    if food not in (df['Main food description'].to_list()):\n",
    "        image='celery.jpg'\n",
    "        return render_template('food_not_found.html', image=image)\n",
    "    else:\n",
    "        result=df.loc[df['Main food description']== food,]\n",
    "        #result=df.loc[df['Main food description'] == food, ('Calcium (mg)', 'Magnesium (mg)', 'Iron\\n(mg)', 'Vitamin C (mg)')]\n",
    "        return render_template('food_content.html', food=food, tables=[result.to_html(classes='data', header=\"true\", index=False)])\n",
    "    \n",
    "@app2.route('/food_not_found')\n",
    "def get_content2():\n",
    "        yes_no=request.args.get('yes_no')\n",
    "        if yes_no not in ('Yes', 'yes', 'YES','No', 'no', 'NO'):\n",
    "            image='bye.jpg'\n",
    "            return render_template('invalid_answer.html', image=image)\n",
    "        elif yes_no in ('No', 'no', 'NO'):\n",
    "            image='bye.jpg'\n",
    "            return render_template('good_bye.html', image=image)\n",
    "        else:\n",
    "            image='fruitsvegg.jpg'\n",
    "            return render_template('index.html', image=image)\n",
    "\n",
    "if __name__ == \"__main__\":\n",
    "    #serve(app, host=\"0.0.0.0\", port=8000)\n",
    "    #app.run(debug=True, port=5001)\n",
    "    app2.run(debug=False)"
   ]
  },
  {
   "cell_type": "code",
   "execution_count": null,
   "id": "f53e70f6",
   "metadata": {},
   "outputs": [],
   "source": [
    "exit"
   ]
  },
  {
   "cell_type": "code",
   "execution_count": null,
   "id": "a3b3f3f0",
   "metadata": {},
   "outputs": [],
   "source": []
  }
 ],
 "metadata": {
  "kernelspec": {
   "display_name": "Python 3 (ipykernel)",
   "language": "python",
   "name": "python3"
  },
  "language_info": {
   "codemirror_mode": {
    "name": "ipython",
    "version": 3
   },
   "file_extension": ".py",
   "mimetype": "text/x-python",
   "name": "python",
   "nbconvert_exporter": "python",
   "pygments_lexer": "ipython3",
   "version": "3.7.7"
  }
 },
 "nbformat": 4,
 "nbformat_minor": 5
}
