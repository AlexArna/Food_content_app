{
 "cells": [
  {
   "cell_type": "code",
   "execution_count": 1,
   "id": "394cbb3d",
   "metadata": {},
   "outputs": [],
   "source": [
    "import pandas as pd\n",
    "#!pip install Flask\n",
    "from flask import Flask, render_template, request\n",
    "#from get_food_info import load_clean, check_food, try_again, get_input\n",
    "#from waitress import serve"
   ]
  },
  {
   "cell_type": "code",
   "execution_count": null,
   "id": "3bdd50e1",
   "metadata": {},
   "outputs": [],
   "source": [
    "#!pip install ipynb"
   ]
  },
  {
   "cell_type": "code",
   "execution_count": 2,
   "id": "f84d7582",
   "metadata": {},
   "outputs": [],
   "source": [
    "from ipynb.fs.full.get_food_info import load_clean"
   ]
  },
  {
   "cell_type": "code",
   "execution_count": 3,
   "id": "0131f5ed",
   "metadata": {},
   "outputs": [],
   "source": [
    "app2 = Flask(__name__)"
   ]
  },
  {
   "cell_type": "code",
   "execution_count": null,
   "id": "e64b84eb",
   "metadata": {},
   "outputs": [
    {
     "name": "stdout",
     "output_type": "stream",
     "text": [
      " * Serving Flask app '__main__'\n",
      " * Debug mode: off\n"
     ]
    },
    {
     "name": "stderr",
     "output_type": "stream",
     "text": [
      "\u001b[31m\u001b[1mWARNING: This is a development server. Do not use it in a production deployment. Use a production WSGI server instead.\u001b[0m\n",
      " * Running on http://127.0.0.1:5000\n",
      "\u001b[33mPress CTRL+C to quit\u001b[0m\n",
      "127.0.0.1 - - [25/Oct/2023 21:45:08] \"GET / HTTP/1.1\" 200 -\n",
      "127.0.0.1 - - [25/Oct/2023 21:45:08] \"GET /static/salad.jpg HTTP/1.1\" 200 -\n",
      "127.0.0.1 - - [25/Oct/2023 21:45:08] \"\u001b[33mGET /favicon.ico HTTP/1.1\u001b[0m\" 404 -\n",
      "127.0.0.1 - - [25/Oct/2023 21:45:39] \"GET /food_content?food=nkjkj HTTP/1.1\" 200 -\n",
      "127.0.0.1 - - [25/Oct/2023 21:45:39] \"GET /static/celery.jpg HTTP/1.1\" 200 -\n",
      "127.0.0.1 - - [25/Oct/2023 21:45:39] \"\u001b[33mGET /favicon.ico HTTP/1.1\u001b[0m\" 404 -\n",
      "127.0.0.1 - - [25/Oct/2023 21:45:43] \"GET /food_not_found?yes_no=no HTTP/1.1\" 200 -\n",
      "127.0.0.1 - - [25/Oct/2023 21:45:44] \"GET /static/bye.jpg HTTP/1.1\" 200 -\n",
      "127.0.0.1 - - [25/Oct/2023 21:45:44] \"\u001b[33mGET /favicon.ico HTTP/1.1\u001b[0m\" 404 -\n",
      "127.0.0.1 - - [25/Oct/2023 21:47:11] \"GET / HTTP/1.1\" 200 -\n",
      "127.0.0.1 - - [25/Oct/2023 21:47:11] \"GET /static/salad.jpg HTTP/1.1\" 200 -\n",
      "127.0.0.1 - - [25/Oct/2023 21:47:11] \"\u001b[33mGET /favicon.ico HTTP/1.1\u001b[0m\" 404 -\n",
      "127.0.0.1 - - [25/Oct/2023 21:47:42] \"GET /food_content?food=nkjkj HTTP/1.1\" 200 -\n",
      "127.0.0.1 - - [25/Oct/2023 21:47:42] \"\u001b[36mGET /static/celery.jpg HTTP/1.1\u001b[0m\" 304 -\n",
      "127.0.0.1 - - [25/Oct/2023 21:47:42] \"\u001b[33mGET /favicon.ico HTTP/1.1\u001b[0m\" 404 -\n",
      "127.0.0.1 - - [25/Oct/2023 21:47:47] \"GET /food_not_found?yes_no=no HTTP/1.1\" 200 -\n",
      "127.0.0.1 - - [25/Oct/2023 21:47:47] \"GET /static/bye.jpg HTTP/1.1\" 200 -\n",
      "127.0.0.1 - - [25/Oct/2023 21:47:47] \"\u001b[33mGET /favicon.ico HTTP/1.1\u001b[0m\" 404 -\n",
      "127.0.0.1 - - [25/Oct/2023 21:49:34] \"GET / HTTP/1.1\" 200 -\n",
      "127.0.0.1 - - [25/Oct/2023 21:49:34] \"\u001b[36mGET /static/salad.jpg HTTP/1.1\u001b[0m\" 304 -\n",
      "127.0.0.1 - - [25/Oct/2023 21:50:34] \"GET / HTTP/1.1\" 200 -\n",
      "127.0.0.1 - - [25/Oct/2023 21:50:34] \"\u001b[36mGET /static/salad.jpg HTTP/1.1\u001b[0m\" 304 -\n",
      "127.0.0.1 - - [25/Oct/2023 21:50:34] \"\u001b[33mGET /favicon.ico HTTP/1.1\u001b[0m\" 404 -\n",
      "127.0.0.1 - - [25/Oct/2023 21:51:07] \"GET /food_content?food=Milk,+whole HTTP/1.1\" 200 -\n",
      "127.0.0.1 - - [25/Oct/2023 22:00:19] \"GET / HTTP/1.1\" 200 -\n",
      "127.0.0.1 - - [25/Oct/2023 22:00:19] \"GET /static/salad.jpg HTTP/1.1\" 200 -\n",
      "127.0.0.1 - - [25/Oct/2023 22:00:20] \"\u001b[33mGET /favicon.ico HTTP/1.1\u001b[0m\" 404 -\n",
      "127.0.0.1 - - [25/Oct/2023 22:01:23] \"GET /food_content?food=pineapple HTTP/1.1\" 200 -\n",
      "127.0.0.1 - - [25/Oct/2023 22:01:23] \"GET /static/celery.jpg HTTP/1.1\" 200 -\n",
      "127.0.0.1 - - [25/Oct/2023 22:01:23] \"\u001b[33mGET /favicon.ico HTTP/1.1\u001b[0m\" 404 -\n",
      "127.0.0.1 - - [25/Oct/2023 22:02:14] \"GET /food_not_found?yes_no=yes HTTP/1.1\" 200 -\n",
      "127.0.0.1 - - [25/Oct/2023 22:02:14] \"\u001b[36mGET /static/salad.jpg HTTP/1.1\u001b[0m\" 304 -\n",
      "127.0.0.1 - - [25/Oct/2023 22:02:53] \"GET /food_content?food=Milk,+whole HTTP/1.1\" 200 -\n",
      "127.0.0.1 - - [25/Oct/2023 22:04:10] \"GET /food_content?food=bread HTTP/1.1\" 200 -\n",
      "127.0.0.1 - - [25/Oct/2023 22:04:10] \"\u001b[36mGET /static/celery.jpg HTTP/1.1\u001b[0m\" 304 -\n",
      "127.0.0.1 - - [25/Oct/2023 22:05:04] \"GET /food_not_found?yes_no=yes HTTP/1.1\" 200 -\n",
      "127.0.0.1 - - [25/Oct/2023 22:05:04] \"\u001b[36mGET /static/salad.jpg HTTP/1.1\u001b[0m\" 304 -\n",
      "127.0.0.1 - - [25/Oct/2023 22:05:36] \"GET /food_content?food=Goat's+milk,+whole HTTP/1.1\" 200 -\n",
      "127.0.0.1 - - [25/Oct/2023 22:07:09] \"GET /food_content?food=Yogurt,+whole+milk,+plain HTTP/1.1\" 200 -\n",
      "127.0.0.1 - - [25/Oct/2023 22:12:14] \"GET /food_content?food=ggghj HTTP/1.1\" 200 -\n",
      "127.0.0.1 - - [25/Oct/2023 22:12:14] \"\u001b[36mGET /static/celery.jpg HTTP/1.1\u001b[0m\" 304 -\n",
      "127.0.0.1 - - [25/Oct/2023 22:12:21] \"GET /food_not_found?yes_no=no HTTP/1.1\" 200 -\n",
      "127.0.0.1 - - [25/Oct/2023 22:12:22] \"GET /static/bye.jpg HTTP/1.1\" 200 -\n"
     ]
    }
   ],
   "source": [
    "@app2.route('/')\n",
    "@app2.route('/index')\n",
    "def index():\n",
    "    image= 'salad.jpg'\n",
    "    return render_template('index.html', image=image)\n",
    "    \n",
    "\n",
    "@app2.route('/food_content', methods=['GET', 'POST'])\n",
    "def get_content():\n",
    "    df=load_clean()\n",
    "    food=request.args.get('food')\n",
    "    if food not in (df['Main food description'].to_list()):\n",
    "        image='celery.jpg'\n",
    "        return render_template('food_not_found.html', image=image)\n",
    "    else:\n",
    "        result=df.loc[df['Main food description'] == food, ('Calcium (mg)', 'Magnesium (mg)', 'Iron\\n(mg)', 'Vitamin C (mg)')]\n",
    "        return render_template('food_content.html', food=food, tables=[result.to_html(classes='data', header=\"true\", index=False)])\n",
    "    \n",
    "@app2.route('/food_not_found')\n",
    "def get_content2():\n",
    "        yes_no=request.args.get('yes_no')\n",
    "        if yes_no not in ('Yes', 'yes', 'YES','No', 'no', 'NO'):\n",
    "            return render_template('invalid_answer.html')\n",
    "        elif yes_no in ('No', 'no', 'NO'):\n",
    "            image='bye.jpg'\n",
    "            return render_template('good_bye.html', image=image)\n",
    "        else:\n",
    "            image='salad.jpg'\n",
    "            return render_template('index.html', image=image)\n",
    "\n",
    "if __name__ == \"__main__\":\n",
    "    #serve(app, host=\"0.0.0.0\", port=8000)\n",
    "    #app.run(debug=True, port=5001)\n",
    "    app2.run(debug=False)"
   ]
  },
  {
   "cell_type": "code",
   "execution_count": null,
   "id": "238d1809",
   "metadata": {},
   "outputs": [],
   "source": [
    "exit"
   ]
  },
  {
   "cell_type": "code",
   "execution_count": null,
   "id": "99fe19eb",
   "metadata": {},
   "outputs": [],
   "source": []
  }
 ],
 "metadata": {
  "kernelspec": {
   "display_name": "Python 3 (ipykernel)",
   "language": "python",
   "name": "python3"
  },
  "language_info": {
   "codemirror_mode": {
    "name": "ipython",
    "version": 3
   },
   "file_extension": ".py",
   "mimetype": "text/x-python",
   "name": "python",
   "nbconvert_exporter": "python",
   "pygments_lexer": "ipython3",
   "version": "3.7.7"
  }
 },
 "nbformat": 4,
 "nbformat_minor": 5
}
