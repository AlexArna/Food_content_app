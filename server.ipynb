{
 "cells": [
  {
   "cell_type": "code",
   "execution_count": 1,
   "id": "5a3ca025",
   "metadata": {},
   "outputs": [],
   "source": [
    "import pandas as pd\n",
    "#!pip install Flask\n",
    "from flask import Flask, render_template, request\n",
    "#from get_food_info import load_clean, check_food, try_again, get_input\n",
    "#from waitress import serve"
   ]
  },
  {
   "cell_type": "code",
   "execution_count": null,
   "id": "bd6b75b5",
   "metadata": {},
   "outputs": [],
   "source": [
    "#!pip install ipynb"
   ]
  },
  {
   "cell_type": "code",
   "execution_count": 2,
   "id": "94e6ef57",
   "metadata": {},
   "outputs": [],
   "source": [
    "from ipynb.fs.full.get_food_info import load_clean"
   ]
  },
  {
   "cell_type": "code",
   "execution_count": 3,
   "id": "f12d4b97",
   "metadata": {},
   "outputs": [],
   "source": [
    "app2 = Flask(__name__)"
   ]
  },
  {
   "cell_type": "code",
   "execution_count": null,
   "id": "53a6fa4d",
   "metadata": {},
   "outputs": [
    {
     "name": "stdout",
     "output_type": "stream",
     "text": [
      " * Serving Flask app '__main__'\n",
      " * Debug mode: off\n"
     ]
    },
    {
     "name": "stderr",
     "output_type": "stream",
     "text": [
      "\u001b[31m\u001b[1mWARNING: This is a development server. Do not use it in a production deployment. Use a production WSGI server instead.\u001b[0m\n",
      " * Running on http://127.0.0.1:5000\n",
      "\u001b[33mPress CTRL+C to quit\u001b[0m\n",
      "127.0.0.1 - - [22/Oct/2023 13:04:24] \"GET / HTTP/1.1\" 200 -\n",
      "127.0.0.1 - - [22/Oct/2023 13:04:24] \"\u001b[33mGET /favicon.ico HTTP/1.1\u001b[0m\" 404 -\n",
      "127.0.0.1 - - [22/Oct/2023 13:04:48] \"GET /food_content?food=Milk,+whole HTTP/1.1\" 200 -\n"
     ]
    },
    {
     "name": "stdout",
     "output_type": "stream",
     "text": [
      "   Calcium (mg)  Magnesium (mg)  Iron\\n(mg)  Vitamin C (mg)\n",
      "2           123              12         0.0             0.0\n"
     ]
    },
    {
     "name": "stderr",
     "output_type": "stream",
     "text": [
      "127.0.0.1 - - [22/Oct/2023 13:05:23] \"GET /food_content?food=Milk,+human HTTP/1.1\" 200 -\n"
     ]
    },
    {
     "name": "stdout",
     "output_type": "stream",
     "text": [
      "   Calcium (mg)  Magnesium (mg)  Iron\\n(mg)  Vitamin C (mg)\n",
      "0            32               3        0.03             5.0\n"
     ]
    },
    {
     "name": "stderr",
     "output_type": "stream",
     "text": [
      "127.0.0.1 - - [22/Oct/2023 13:06:02] \"GET /food_content?food=nkji HTTP/1.1\" 200 -\n"
     ]
    },
    {
     "name": "stdout",
     "output_type": "stream",
     "text": [
      "test1\n"
     ]
    },
    {
     "name": "stderr",
     "output_type": "stream",
     "text": [
      "127.0.0.1 - - [22/Oct/2023 13:06:13] \"GET /food_not_found?yes_no=yes HTTP/1.1\" 200 -\n"
     ]
    },
    {
     "name": "stdout",
     "output_type": "stream",
     "text": [
      "test2\n",
      "yes\n"
     ]
    },
    {
     "name": "stderr",
     "output_type": "stream",
     "text": [
      "127.0.0.1 - - [22/Oct/2023 13:06:37] \"GET /food_content?food=joouj HTTP/1.1\" 200 -\n"
     ]
    },
    {
     "name": "stdout",
     "output_type": "stream",
     "text": [
      "test1\n"
     ]
    },
    {
     "name": "stderr",
     "output_type": "stream",
     "text": [
      "127.0.0.1 - - [22/Oct/2023 13:06:41] \"GET /food_not_found?yes_no=yes HTTP/1.1\" 200 -\n"
     ]
    },
    {
     "name": "stdout",
     "output_type": "stream",
     "text": [
      "test2\n",
      "yes\n"
     ]
    },
    {
     "name": "stderr",
     "output_type": "stream",
     "text": [
      "127.0.0.1 - - [22/Oct/2023 13:07:05] \"GET /food_content?food=Milk,+whole HTTP/1.1\" 200 -\n"
     ]
    },
    {
     "name": "stdout",
     "output_type": "stream",
     "text": [
      "   Calcium (mg)  Magnesium (mg)  Iron\\n(mg)  Vitamin C (mg)\n",
      "2           123              12         0.0             0.0\n"
     ]
    },
    {
     "name": "stderr",
     "output_type": "stream",
     "text": [
      "127.0.0.1 - - [22/Oct/2023 13:07:27] \"GET /food_content?food=nkjiu HTTP/1.1\" 200 -\n",
      "127.0.0.1 - - [22/Oct/2023 13:07:27] \"\u001b[33mGET /favicon.ico HTTP/1.1\u001b[0m\" 404 -\n"
     ]
    },
    {
     "name": "stdout",
     "output_type": "stream",
     "text": [
      "test1\n",
      "test2\n",
      "yess\n"
     ]
    },
    {
     "name": "stderr",
     "output_type": "stream",
     "text": [
      "127.0.0.1 - - [22/Oct/2023 13:07:43] \"GET /food_not_found?yes_no=yess HTTP/1.1\" 200 -\n"
     ]
    }
   ],
   "source": [
    "@app2.route('/')\n",
    "@app2.route('/index')\n",
    "def index():\n",
    "    return render_template('index.html')\n",
    "\n",
    "@app2.route('/food_content', methods=['GET', 'POST'])\n",
    "def get_content():\n",
    "    df=load_clean()\n",
    "    food=request.args.get('food')\n",
    "    if food not in (df['Main food description'].to_list()):\n",
    "        print(\"test1\")\n",
    "        return render_template('food_not_found.html')    \n",
    "    else:\n",
    "        result=df.loc[df['Main food description'] == food, ('Calcium (mg)', 'Magnesium (mg)', 'Iron\\n(mg)', 'Vitamin C (mg)')]\n",
    "        print(result)\n",
    "        return render_template('food_content.html', food=food, tables=[result.to_html(classes='data', header=\"true\", index=False)])\n",
    "    \n",
    "@app2.route('/food_not_found')\n",
    "def get_content2():\n",
    "        yes_no=request.args.get('yes_no')\n",
    "        print(yes_no)\n",
    "        if yes_no not in ('Yes', 'yes', 'YES','No', 'no', 'NO'):\n",
    "            return render_template('invalid_answer.html')\n",
    "        elif yes_no in ('No', 'no', 'NO'):\n",
    "            return render_template('good_bye.html')\n",
    "        else:\n",
    "            return render_template('index.html')\n",
    "\n",
    "if __name__ == \"__main__\":\n",
    "    #serve(app, host=\"0.0.0.0\", port=8000)\n",
    "    #app.run(debug=True, port=5001)\n",
    "    app2.run(debug=False)"
   ]
  },
  {
   "cell_type": "code",
   "execution_count": null,
   "id": "cbebe735",
   "metadata": {},
   "outputs": [],
   "source": [
    "exit"
   ]
  },
  {
   "cell_type": "code",
   "execution_count": null,
   "id": "3845ea04",
   "metadata": {},
   "outputs": [],
   "source": []
  }
 ],
 "metadata": {
  "kernelspec": {
   "display_name": "Python 3 (ipykernel)",
   "language": "python",
   "name": "python3"
  },
  "language_info": {
   "codemirror_mode": {
    "name": "ipython",
    "version": 3
   },
   "file_extension": ".py",
   "mimetype": "text/x-python",
   "name": "python",
   "nbconvert_exporter": "python",
   "pygments_lexer": "ipython3",
   "version": "3.7.7"
  }
 },
 "nbformat": 4,
 "nbformat_minor": 5
}
