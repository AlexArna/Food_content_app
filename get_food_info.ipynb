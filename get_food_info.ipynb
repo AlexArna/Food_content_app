{
 "cells": [
  {
   "cell_type": "code",
   "execution_count": 1,
   "id": "a40ecd11",
   "metadata": {},
   "outputs": [],
   "source": [
    "import pandas as pd\n",
    "#from flask import Flask, render_template, request\n"
   ]
  },
  {
   "cell_type": "code",
   "execution_count": 2,
   "id": "0470331a",
   "metadata": {},
   "outputs": [],
   "source": [
    "def load_clean():\n",
    "    df=pd.read_excel('https://www.ars.usda.gov/ARSUserFiles/80400530/apps/2019-2020%20FNDDS%20At%20A%20Glance%20-%20FNDDS%20Nutrient%20Values.xlsx', header=1)\n",
    "    df.drop(df.iloc[:, 49:68], inplace=True, axis=1)\n",
    "    df.drop(df.columns[[0,2]], axis=1, inplace=True)\n",
    "    return df"
   ]
  },
  {
   "cell_type": "code",
   "execution_count": 3,
   "id": "b2f3cce5",
   "metadata": {},
   "outputs": [],
   "source": [
    "def check_food():\n",
    "    global food\n",
    "    food=input(\"\\nPlease insert a food name: \")\n",
    "    if not food in (df['Main food description'].to_list()):\n",
    "        print(\"\\nSorry, this food name is not in the database.\\n\")\n",
    "        try_again()\n",
    "    else:\n",
    "        print(\"\\nI found it! Just a minute...\")\n",
    "        return food"
   ]
  },
  {
   "cell_type": "code",
   "execution_count": 4,
   "id": "6a760137",
   "metadata": {},
   "outputs": [],
   "source": [
    "def try_again():\n",
    "    try_again=input(\"Do you want to try again? Please answer Yes or No:\\n\")\n",
    "    if not try_again in ('Yes', 'yes', 'YES','No', 'no', 'NO'):\n",
    "        print('\\n\\nSorry, that was not the answer I expected. Good bye!')\n",
    "    elif try_again in ('No', 'no', 'NO'):\n",
    "        print('\\nOk! Good bye!')\n",
    "    else:\n",
    "        check_food() \n",
    "        #return food"
   ]
  },
  {
   "cell_type": "code",
   "execution_count": 5,
   "id": "5260802b",
   "metadata": {},
   "outputs": [],
   "source": [
    "def get_input(df, food):\n",
    "    df=load_clean()\n",
    "    result=df.loc[df['Main food description'] == food, ('Calcium (mg)', 'Magnesium (mg)', 'Iron\\n(mg)', 'Vitamin C (mg)')]\n",
    "    return result"
   ]
  },
  {
   "cell_type": "code",
   "execution_count": 6,
   "id": "e6e55756",
   "metadata": {},
   "outputs": [
    {
     "name": "stdout",
     "output_type": "stream",
     "text": [
      "*** Welcome to the food content app! ***\n",
      "\n",
      "Please be patient, it takes a while to launch the app...\n",
      "Please insert a food name: Milk, human\n",
      "\n",
      "I found it! Just a minute...\n",
      "\n",
      "Here are some nutritional information about 'Milk, human':\n",
      "\n",
      " Calcium (mg)  Magnesium (mg)  Iron\\n(mg)  Vitamin C (mg)\n",
      "           32               3        0.03             5.0\n"
     ]
    }
   ],
   "source": [
    "if __name__ == \"__main__\":\n",
    "    print(\"*** Welcome to the food content app! ***\\n\")\n",
    "    print(\"Please be patient, it takes a while to launch the app...\")\n",
    "    df=load_clean()\n",
    "    check_food()\n",
    "    if food in (df['Main food description'].to_list()):\n",
    "        result=get_input(df, food)\n",
    "        print(\"\\nHere are some nutritional information about '\"+food+\"':\\n\")\n",
    "        print(result.to_string(index=False))"
   ]
  },
  {
   "cell_type": "code",
   "execution_count": null,
   "id": "626043ea",
   "metadata": {},
   "outputs": [],
   "source": []
  }
 ],
 "metadata": {
  "kernelspec": {
   "display_name": "Python 3 (ipykernel)",
   "language": "python",
   "name": "python3"
  },
  "language_info": {
   "codemirror_mode": {
    "name": "ipython",
    "version": 3
   },
   "file_extension": ".py",
   "mimetype": "text/x-python",
   "name": "python",
   "nbconvert_exporter": "python",
   "pygments_lexer": "ipython3",
   "version": "3.7.7"
  }
 },
 "nbformat": 4,
 "nbformat_minor": 5
}
